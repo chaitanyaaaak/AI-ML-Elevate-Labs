{
 "cells": [
  {
   "cell_type": "code",
   "execution_count": null,
   "id": "c46ae22c",
   "metadata": {},
   "outputs": [],
   "source": [
    "import pandas as pd\n",
    "import numpy as np\n",
    "import matplotlib.pyplot as plt\n",
    "import seaborn as sns\n",
    "from sklearn.preprocessing import StandardScaler, LabelEncoder"
   ]
  },
  {
   "cell_type": "code",
   "execution_count": null,
   "id": "9c031ef9",
   "metadata": {},
   "outputs": [],
   "source": [
    "# Loading the dataset\n",
    "location = r'C:\\Users\\91963\\Documents\\DS\\Elevate labs\\Task 1- Data Cleaning & Preprocessing\\titanic.csv'\n",
    "titanic = pd.read_csv(location)\n",
    "\n",
    "# Basic info\n",
    "print(\"Dataset shape:\", titanic.shape)\n",
    "print(\"\\nFirst 5 rows:\")\n",
    "print(titanic.head())\n",
    "print(\"\\nDataset info:\")\n",
    "print(titanic.info())\n",
    "print(\"\\nSummary statistics:\")\n",
    "print(titanic.describe(include='all'))"
   ]
  },
  {
   "cell_type": "code",
   "execution_count": null,
   "id": "ea451801",
   "metadata": {},
   "outputs": [],
   "source": [
    "# Checking for missing values\n",
    "print(\"Missing values per column:\")\n",
    "print(titanic.isnull().sum())\n",
    "\n",
    "titanic['Age'].fillna(titanic['Age'].median(), inplace=True)\n",
    "\n",
    "# For Cabin missing values\n",
    "titanic.drop('Cabin', axis=1, inplace=True)\n",
    "\n",
    "titanic['Embarked'].fillna(titanic['Embarked'].mode()[0], inplace=True)\n",
    "\n",
    "print(\"\\nMissing values after treatment:\")\n",
    "print(titanic.isnull().sum())"
   ]
  },
  {
   "cell_type": "code",
   "execution_count": null,
   "id": "e54dbee7",
   "metadata": {},
   "outputs": [],
   "source": [
    "# Identifying categorical columns\n",
    "categorical_cols = ['Sex', 'Embarked', 'Name', 'Ticket']\n",
    "\n",
    "# Label encoding (binary)\n",
    "titanic['Sex'] = LabelEncoder().fit_transform(titanic['Sex'])\n",
    "\n",
    "# One-hot encoding for Embarked\n",
    "titanic = pd.get_dummies(titanic, columns=['Embarked'], prefix='Embarked')\n",
    "\n",
    "titanic.drop(['Name', 'Ticket'], axis=1, inplace=True)\n",
    "\n",
    "print(\"\\nAfter encoding:\")\n",
    "print(titanic.head())"
   ]
  },
  {
   "cell_type": "code",
   "execution_count": null,
   "id": "1e1fee94",
   "metadata": {},
   "outputs": [],
   "source": [
    "# Identifying numerical columns to scale (excluding binary/target variables)\n",
    "numerical_cols = ['Age', 'Fare', 'Pclass']\n",
    "\n",
    "scaler = StandardScaler()\n",
    "\n",
    "titanic[numerical_cols] = scaler.fit_transform(titanic[numerical_cols])\n",
    "\n",
    "print(\"\\nAfter scaling:\")\n",
    "print(titanic[numerical_cols].head())"
   ]
  },
  {
   "cell_type": "code",
   "execution_count": null,
   "id": "e16969aa",
   "metadata": {},
   "outputs": [],
   "source": [
    "# Creating boxplots for numerical features\n",
    "plt.figure(figsize=(15, 5))\n",
    "\n",
    "for i, col in enumerate(numerical_cols, 1):\n",
    "    plt.subplot(1, len(numerical_cols), i)\n",
    "    sns.boxplot(y=titanic[col])\n",
    "    plt.title(col)\n",
    "\n",
    "plt.tight_layout()\n",
    "plt.show()\n",
    "\n",
    "def remove_outliers(df, col):\n",
    "    Q1 = df[col].quantile(0.25)\n",
    "    Q3 = df[col].quantile(0.75)\n",
    "    IQR = Q3 - Q1\n",
    "    lower_bound = Q1 - 1.5 * IQR\n",
    "    upper_bound = Q3 + 1.5 * IQR\n",
    "    return df[(df[col] >= lower_bound) & (df[col] <= upper_bound)]\n",
    "\n",
    "titanic = remove_outliers(titanic, 'Age')\n",
    "titanic = remove_outliers(titanic, 'Fare')\n",
    "\n",
    "print(\"Dataset shape after outlier removal:\", titanic.shape)"
   ]
  },
  {
   "cell_type": "code",
   "execution_count": null,
   "id": "77a3b1fd",
   "metadata": {},
   "outputs": [],
   "source": [
    "# Final cleaned dataset info\n",
    "print(\"\\nFinal cleaned dataset info:\")\n",
    "print(titanic.info())\n",
    "print(\"\\nFirst 5 rows of cleaned data:\")\n",
    "print(titanic.head())\n",
    "\n",
    "# Saved dataset\n",
    "titanic.to_csv('cleaned_titanic.csv', index=False)"
   ]
  }
 ],
 "metadata": {
  "kernelspec": {
   "display_name": "venv",
   "language": "python",
   "name": "python3"
  },
  "language_info": {
   "codemirror_mode": {
    "name": "ipython",
    "version": 3
   },
   "file_extension": ".py",
   "mimetype": "text/x-python",
   "name": "python",
   "nbconvert_exporter": "python",
   "pygments_lexer": "ipython3",
   "version": "3.13.5"
  }
 },
 "nbformat": 4,
 "nbformat_minor": 5
}
